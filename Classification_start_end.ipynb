{
 "cells": [
  {
   "cell_type": "markdown",
   "metadata": {},
   "source": [
    "# Classification\n",
    "\n",
    "This notebook aims to obtain an accurate model able to predict whether the QQQ stock price is gonna increase or decrease over a full day. The model will be trained on the data from 2019 to 2022 and tested on the data from 2022 to 2023. Additional features will be used to improve the accuracy of the model, such as the interest rate and the inflation"
   ]
  },
  {
   "cell_type": "markdown",
   "metadata": {},
   "source": [
    "## Libraries"
   ]
  },
  {
   "cell_type": "code",
   "execution_count": 47,
   "metadata": {},
   "outputs": [],
   "source": [
    "import numpy as np\n",
    "import pandas as pd\n",
    "import matplotlib.pyplot as plt\n",
    "import seaborn as sns\n",
    "from sklearn.ensemble import RandomForestClassifier\n",
    "from sklearn.model_selection import GridSearchCV\n",
    "from sklearn.ensemble import GradientBoostingClassifier"
   ]
  },
  {
   "cell_type": "markdown",
   "metadata": {},
   "source": [
    "# Data opening and exploration"
   ]
  },
  {
   "cell_type": "markdown",
   "metadata": {},
   "source": [
    "## Data Opening"
   ]
  },
  {
   "cell_type": "markdown",
   "metadata": {},
   "source": [
    "### QQQ data"
   ]
  },
  {
   "cell_type": "code",
   "execution_count": 2,
   "metadata": {},
   "outputs": [],
   "source": [
    "data_2019 = pd.read_csv('Data\\\\2019 - FUND_US_XNAS_QQQ.csv')\n",
    "data_2020 = pd.read_csv('Data\\\\2020 - FUND_US_XNAS_QQQ.csv')\n",
    "data_2021 = pd.read_csv('Data\\\\2021 - FUND_US_XNAS_QQQ.csv')\n",
    "data_2022 = pd.read_csv('Data\\\\2022 - FUND_US_XNAS_QQQ.csv')\n",
    "data_2023 = pd.read_csv('Data\\\\2023 - FUND_US_XNAS_QQQ.csv')\n",
    "\n",
    "# Concatenate all data into one big dataframe\n",
    "\n",
    "data = pd.concat([data_2019, data_2020, data_2021, data_2022, data_2023])\n",
    "\n",
    "# save the data to a csv file\n",
    "data.to_csv('Data\\\\QQQ.csv')"
   ]
  },
  {
   "cell_type": "code",
   "execution_count": 14,
   "metadata": {},
   "outputs": [
    {
     "name": "stdout",
     "output_type": "stream",
     "text": [
      "<class 'pandas.core.frame.DataFrame'>\n",
      "Index: 1220 entries, 0 to 211\n",
      "Data columns (total 6 columns):\n",
      " #   Column  Non-Null Count  Dtype  \n",
      "---  ------  --------------  -----  \n",
      " 0   Date    1220 non-null   object \n",
      " 1   Open    1220 non-null   float64\n",
      " 2   High    1220 non-null   float64\n",
      " 3   Low     1220 non-null   float64\n",
      " 4   Close   1220 non-null   float64\n",
      " 5   Volume  1220 non-null   object \n",
      "dtypes: float64(4), object(2)\n",
      "memory usage: 66.7+ KB\n",
      "None\n",
      "Date      0\n",
      "Open      0\n",
      "High      0\n",
      "Low       0\n",
      "Close     0\n",
      "Volume    0\n",
      "dtype: int64\n",
      "        Date    Open    High     Low   Close      Volume\n",
      "0 2019-12-31  211.62  212.76  211.20  212.61  18,201,590\n",
      "1 2019-12-30  213.51  213.63  211.16  212.21  21,829,910\n",
      "2 2019-12-27  214.55  214.56  213.04  213.61  18,142,240\n",
      "3 2019-12-26  212.26  213.81  212.23  213.79  17,159,311\n",
      "4 2019-12-24  211.97  212.09  211.44  211.92   7,089,020\n"
     ]
    }
   ],
   "source": [
    "# Check the data (name of columns, number of rows, etc.) and check if there are any missing values\n",
    "\n",
    "print(data.info())\n",
    "print(data.isnull().sum())\n",
    "\n",
    "# convert the date column to datetime format\n",
    "data['Date'] = pd.to_datetime(data['Date'])\n",
    "\n",
    "print(data.head())"
   ]
  },
  {
   "cell_type": "markdown",
   "metadata": {},
   "source": [
    "### Inflation data"
   ]
  },
  {
   "cell_type": "code",
   "execution_count": 16,
   "metadata": {},
   "outputs": [
    {
     "name": "stdout",
     "output_type": "stream",
     "text": [
      "      Jan  Feb  Mar  Apr  May  Jun  Jul  Aug  Sep  Oct  Nov  Dec  HALF1  HALF2\n",
      "Year                                                                          \n",
      "2013  1.9  2.0  1.9  1.7  1.7  1.6  1.7  1.8  1.7  1.7  1.7  1.7    1.8    1.7\n",
      "2014  1.6  1.6  1.7  1.8  2.0  1.9  1.9  1.7  1.7  1.8  1.7  1.6    1.8    1.7\n",
      "2015  1.6  1.7  1.8  1.8  1.7  1.8  1.8  1.8  1.9  1.9  2.0  2.1    1.7    1.9\n",
      "2016  2.2  2.3  2.2  2.1  2.2  2.2  2.2  2.3  2.2  2.1  2.1  2.2    2.2    2.2\n",
      "2017  2.3  2.2  2.0  1.9  1.7  1.7  1.7  1.7  1.7  1.8  1.7  1.8    2.0    1.7\n",
      "2018  1.8  1.8  2.1  2.1  2.2  2.3  2.4  2.2  2.2  2.1  2.2  2.2    2.1    2.2\n",
      "2019  2.2  2.1  2.0  2.1  2.0  2.1  2.2  2.4  2.4  2.3  2.3  2.3    2.1    2.3\n",
      "2020  2.3  2.4  2.1  1.4  1.2  1.2  1.6  1.7  1.7  1.6  1.6  1.6    1.8    1.6\n",
      "2021  1.4  1.3  1.6  3.0  3.8  4.5  4.3  4.0  4.0  4.6  4.9  5.5    2.6    4.5\n",
      "2022  6.0  6.4  6.5  6.2  6.0  5.9  5.9  6.3  6.6  6.3  6.0  5.7    6.2    6.1\n",
      "2023  5.6  5.5  5.6  5.5  5.3  4.8  4.7  4.3  4.1  NaN  NaN  NaN    5.4    NaN\n"
     ]
    }
   ],
   "source": [
    "inflation_data = pd.read_csv('Data\\\\us_inflation.txt', sep='\\t')\n",
    "# transform the 'Year' into the index of the dataframe\n",
    "inflation_data.set_index('Year', inplace=True)\n",
    "print(inflation_data)"
   ]
  },
  {
   "cell_type": "markdown",
   "metadata": {},
   "source": [
    "### Interest rate data"
   ]
  },
  {
   "cell_type": "code",
   "execution_count": 13,
   "metadata": {},
   "outputs": [
    {
     "name": "stdout",
     "output_type": "stream",
     "text": [
      "        Date 1-month 3-month 6-month 1-year 2-year 3-year 5-year 7-year  \\\n",
      "0 1962-01-02     NaN     NaN     NaN   3.22    NaN   3.70   3.88    NaN   \n",
      "1 1962-01-03     NaN     NaN     NaN   3.24    NaN   3.70   3.87    NaN   \n",
      "2 1962-01-04     NaN     NaN     NaN   3.24    NaN   3.69   3.86    NaN   \n",
      "3 1962-01-05     NaN     NaN     NaN   3.26    NaN   3.71   3.89    NaN   \n",
      "4 1962-01-08     NaN     NaN     NaN   3.31    NaN   3.71   3.91    NaN   \n",
      "\n",
      "  10-year 20-year 30-year  \n",
      "0    4.06    4.07     NaN  \n",
      "1    4.03    4.07     NaN  \n",
      "2    3.99    4.06     NaN  \n",
      "3    4.02    4.07     NaN  \n",
      "4    4.03    4.08     NaN  \n"
     ]
    }
   ],
   "source": [
    "ir_data = pd.read_csv('Data\\\\interest_rate_n.csv')\n",
    "\n",
    "# convert the date column to datetime format\n",
    "ir_data['Date'] = pd.to_datetime(ir_data['Date'])\n",
    "print(ir_data.head())"
   ]
  },
  {
   "cell_type": "markdown",
   "metadata": {},
   "source": [
    "## Full data\n",
    "\n",
    "We will now merge the three datasets into one, while keeping only the dates that are common to the three datasets."
   ]
  },
  {
   "cell_type": "code",
   "execution_count": 15,
   "metadata": {},
   "outputs": [
    {
     "name": "stdout",
     "output_type": "stream",
     "text": [
      "        Date    Open    High     Low   Close      Volume 1-month 3-month  \\\n",
      "0 2019-12-31  211.62  212.76  211.20  212.61  18,201,590    1.48    1.55   \n",
      "1 2019-12-30  213.51  213.63  211.16  212.21  21,829,910    1.51    1.57   \n",
      "2 2019-12-27  214.55  214.56  213.04  213.61  18,142,240    1.56    1.57   \n",
      "3 2019-12-26  212.26  213.81  212.23  213.79  17,159,311    1.59    1.58   \n",
      "4 2019-12-24  211.97  212.09  211.44  211.92   7,089,020    1.55    1.58   \n",
      "\n",
      "  6-month 1-year 2-year 3-year 5-year 7-year 10-year 20-year 30-year  \n",
      "0    1.60   1.59   1.58   1.62   1.69   1.83    1.92    2.25    2.39  \n",
      "1    1.60   1.57   1.58   1.59   1.68   1.81    1.90    2.21    2.34  \n",
      "2    1.59   1.51   1.59   1.60   1.68   1.80    1.88    2.18    2.32  \n",
      "3    1.61   1.53   1.64   1.65   1.72   1.85    1.90    2.19    2.33  \n",
      "4    1.61   1.53   1.62   1.64   1.72   1.83    1.90    2.20    2.33  \n"
     ]
    }
   ],
   "source": [
    "full_data = pd.merge(data, ir_data, on='Date')\n",
    "print(full_data.head())"
   ]
  },
  {
   "cell_type": "code",
   "execution_count": 18,
   "metadata": {},
   "outputs": [
    {
     "name": "stdout",
     "output_type": "stream",
     "text": [
      "        Date    Open    High     Low   Close      Volume 1-month 3-month  \\\n",
      "0 2019-12-31  211.62  212.76  211.20  212.61  18,201,590    1.48    1.55   \n",
      "1 2019-12-30  213.51  213.63  211.16  212.21  21,829,910    1.51    1.57   \n",
      "2 2019-12-27  214.55  214.56  213.04  213.61  18,142,240    1.56    1.57   \n",
      "3 2019-12-26  212.26  213.81  212.23  213.79  17,159,311    1.59    1.58   \n",
      "4 2019-12-24  211.97  212.09  211.44  211.92   7,089,020    1.55    1.58   \n",
      "\n",
      "  6-month 1-year 2-year 3-year 5-year 7-year 10-year 20-year 30-year  \\\n",
      "0    1.60   1.59   1.58   1.62   1.69   1.83    1.92    2.25    2.39   \n",
      "1    1.60   1.57   1.58   1.59   1.68   1.81    1.90    2.21    2.34   \n",
      "2    1.59   1.51   1.59   1.60   1.68   1.80    1.88    2.18    2.32   \n",
      "3    1.61   1.53   1.64   1.65   1.72   1.85    1.90    2.19    2.33   \n",
      "4    1.61   1.53   1.62   1.64   1.72   1.83    1.90    2.20    2.33   \n",
      "\n",
      "   Inflation  \n",
      "0        2.3  \n",
      "1        2.3  \n",
      "2        2.3  \n",
      "3        2.3  \n",
      "4        2.3  \n"
     ]
    }
   ],
   "source": [
    "# to add the values in the inflation dataframe, we are going to look first for the year and then for the month\n",
    "\n",
    "def join_inflation(row):\n",
    "    year = row['Date'].year\n",
    "    month = row['Date'].month\n",
    "    # convert the month to a 3-char string\n",
    "    month = row['Date'].strftime('%b')\n",
    "    return inflation_data.loc[year, month]\n",
    "\n",
    "full_data['Inflation'] = full_data.apply(join_inflation, axis=1)\n",
    "print(full_data.head())"
   ]
  },
  {
   "cell_type": "code",
   "execution_count": 19,
   "metadata": {},
   "outputs": [],
   "source": [
    "# Now save the full data to a csv file\n",
    "full_data.to_csv('Data\\\\QQQ_full.csv')"
   ]
  },
  {
   "cell_type": "markdown",
   "metadata": {},
   "source": [
    "## Data exploration\n",
    "\n",
    "We are going to print the first rows of the dataset, as well as the number of rows and columns.\n",
    "Then we will print basic statistics about the dataset, as well as the correlation matrix.\n",
    "And finally we will plot the evolution of the QQQ stock price over time."
   ]
  },
  {
   "cell_type": "code",
   "execution_count": 30,
   "metadata": {},
   "outputs": [
    {
     "name": "stdout",
     "output_type": "stream",
     "text": [
      "              Open    High     Low   Close    Volume 1-month 3-month 6-month  \\\n",
      "Date                                                                           \n",
      "2019-01-02  150.99  155.75  150.88  154.88  58576672    2.40    2.42    2.51   \n",
      "2019-01-03  152.60  153.26  149.49  149.82  74820234    2.42    2.41    2.47   \n",
      "2019-01-04  152.18  157.00  151.74  156.23  74709320    2.40    2.42    2.51   \n",
      "2019-01-07  156.54  158.86  156.11  158.09  52059328    2.42    2.45    2.54   \n",
      "2019-01-08  159.56  160.11  157.20  159.52  49388688    2.40    2.46    2.54   \n",
      "\n",
      "           1-year 2-year 3-year 5-year 7-year 10-year 20-year 30-year  \\\n",
      "Date                                                                    \n",
      "2019-01-02   2.60   2.50   2.47   2.49   2.56    2.66    2.83    2.97   \n",
      "2019-01-03   2.50   2.39   2.35   2.37   2.44    2.56    2.75    2.92   \n",
      "2019-01-04   2.57   2.50   2.47   2.49   2.56    2.67    2.83    2.98   \n",
      "2019-01-07   2.58   2.53   2.51   2.53   2.60    2.70    2.86    2.99   \n",
      "2019-01-08   2.60   2.58   2.57   2.58   2.63    2.73    2.88    3.00   \n",
      "\n",
      "            Inflation  \n",
      "Date                   \n",
      "2019-01-02        2.2  \n",
      "2019-01-03        2.2  \n",
      "2019-01-04        2.2  \n",
      "2019-01-07        2.2  \n",
      "2019-01-08        2.2  \n",
      "(1219, 17)\n",
      "<class 'pandas.core.frame.DataFrame'>\n",
      "DatetimeIndex: 1219 entries, 2019-01-02 to 2023-11-02\n",
      "Data columns (total 17 columns):\n",
      " #   Column     Non-Null Count  Dtype  \n",
      "---  ------     --------------  -----  \n",
      " 0   Open       1219 non-null   float64\n",
      " 1   High       1219 non-null   float64\n",
      " 2   Low        1219 non-null   float64\n",
      " 3   Close      1219 non-null   float64\n",
      " 4   Volume     1219 non-null   int32  \n",
      " 5   1-month    1219 non-null   object \n",
      " 6   3-month    1219 non-null   object \n",
      " 7   6-month    1219 non-null   object \n",
      " 8   1-year     1219 non-null   object \n",
      " 9   2-year     1219 non-null   object \n",
      " 10  3-year     1219 non-null   object \n",
      " 11  5-year     1219 non-null   object \n",
      " 12  7-year     1219 non-null   object \n",
      " 13  10-year    1219 non-null   object \n",
      " 14  20-year    1219 non-null   object \n",
      " 15  30-year    1219 non-null   object \n",
      " 16  Inflation  1195 non-null   float64\n",
      "dtypes: float64(5), int32(1), object(11)\n",
      "memory usage: 166.7+ KB\n",
      "None\n",
      "Index(['Open', 'High', 'Low', 'Close', 'Volume', '1-month', '3-month',\n",
      "       '6-month', '1-year', '2-year', '3-year', '5-year', '7-year', '10-year',\n",
      "       '20-year', '30-year', 'Inflation'],\n",
      "      dtype='object')\n",
      "              Open         High          Low        Close        Volume  \\\n",
      "count  1219.000000  1219.000000  1219.000000  1219.000000  1.219000e+03   \n",
      "mean    285.706932   288.106514   283.172116   285.810829  4.835345e+07   \n",
      "std      68.871323    69.289480    68.293473    68.802050  2.350644e+07   \n",
      "min     150.990000   153.260000   149.490000   149.820000  7.089020e+06   \n",
      "25%     217.560000   219.920000   215.575000   218.160000  3.115924e+07   \n",
      "50%     294.710000   296.940000   291.610000   294.470000  4.427855e+07   \n",
      "75%     342.740000   346.830000   339.430000   342.260000  6.033569e+07   \n",
      "max     405.570000   408.710000   402.580000   403.990000  1.994481e+08   \n",
      "\n",
      "         Inflation  \n",
      "count  1195.000000  \n",
      "mean      3.664435  \n",
      "std       1.831636  \n",
      "min       1.200000  \n",
      "25%       2.100000  \n",
      "50%       3.800000  \n",
      "75%       5.500000  \n",
      "max       6.600000  \n"
     ]
    },
    {
     "data": {
      "image/png": "[encoded data removed]",
      "text/plain": [
       "<Figure size 1200x600 with 1 Axes>"
      ]
     },
     "metadata": {},
     "output_type": "display_data"
    }
   ],
   "source": [
    "Full_dataset = pd.read_csv('Data\\\\QQQ_full.csv')\n",
    "Full_dataset['Date'] = pd.to_datetime(Full_dataset['Date'])\n",
    "Full_dataset.set_index('Date', inplace=True)\n",
    "\n",
    "# delete the columns 'Unnamed: 0'\n",
    "Full_dataset.drop('Unnamed: 0', axis=1, inplace=True)\n",
    "\n",
    "# sort the dataset by growing date\n",
    "Full_dataset.sort_index(inplace=True)\n",
    "\n",
    "# Convert the 'Volume' values to integers by removing the commas\n",
    "Full_dataset['Volume'] = Full_dataset['Volume'].str.replace(',', '')\n",
    "Full_dataset['Volume'] = Full_dataset['Volume'].astype(int)\n",
    "\n",
    "print(Full_dataset.head())\n",
    "\n",
    "# print the number of rows and columns\n",
    "print(Full_dataset.shape)\n",
    "print(Full_dataset.info())\n",
    "print(Full_dataset.columns)\n",
    "\n",
    "# print basic statistics\n",
    "print(Full_dataset.describe())\n",
    "\n",
    "# print the correlation matrix with seaborn\n",
    "'''corr = Full_dataset.corr()\n",
    "sns.heatmap(corr, annot=True, cmap='coolwarm')'''\n",
    "\n",
    "# print the evolution of the price\n",
    "plt.figure(figsize=(12, 6))\n",
    "plt.plot(Full_dataset.index, Full_dataset['Close'])\n",
    "plt.title('QQQ price evolution')\n",
    "plt.xlabel('Date')\n",
    "plt.ylabel('Price')\n",
    "plt.show()"
   ]
  },
  {
   "cell_type": "markdown",
   "metadata": {},
   "source": [
    "# Random forest classifier\n",
    "\n",
    "Our goal is to predict wethever the QQQ stock price is going to increase or decrease over a full day. We will use a random forest classifier to do so.\n",
    "First we are going to add a \"label\" column to the dataframe, with 1 if the stock price increased over a full day, and 0 otherwise."
   ]
  },
  {
   "cell_type": "code",
   "execution_count": 41,
   "metadata": {},
   "outputs": [
    {
     "name": "stdout",
     "output_type": "stream",
     "text": [
      "              Open    High     Low    Volume 1-month 3-month 6-month 1-year  \\\n",
      "Date                                                                          \n",
      "2019-01-02  150.99  155.75  150.88  58576672    2.40    2.42    2.51   2.60   \n",
      "2019-01-03  152.60  153.26  149.49  74820234    2.42    2.41    2.47   2.50   \n",
      "2019-01-04  152.18  157.00  151.74  74709320    2.40    2.42    2.51   2.57   \n",
      "2019-01-07  156.54  158.86  156.11  52059328    2.42    2.45    2.54   2.58   \n",
      "2019-01-08  159.56  160.11  157.20  49388688    2.40    2.46    2.54   2.60   \n",
      "\n",
      "           2-year 3-year 5-year 7-year 10-year 20-year 30-year  Inflation  \\\n",
      "Date                                                                        \n",
      "2019-01-02   2.50   2.47   2.49   2.56    2.66    2.83    2.97        2.2   \n",
      "2019-01-03   2.39   2.35   2.37   2.44    2.56    2.75    2.92        2.2   \n",
      "2019-01-04   2.50   2.47   2.49   2.56    2.67    2.83    2.98        2.2   \n",
      "2019-01-07   2.53   2.51   2.53   2.60    2.70    2.86    2.99        2.2   \n",
      "2019-01-08   2.58   2.57   2.58   2.63    2.73    2.88    3.00        2.2   \n",
      "\n",
      "            Price_diff  \n",
      "Date                    \n",
      "2019-01-02           1  \n",
      "2019-01-03           0  \n",
      "2019-01-04           1  \n",
      "2019-01-07           1  \n",
      "2019-01-08           0  \n"
     ]
    }
   ],
   "source": [
    "# Add the column\n",
    "def add_column(row):\n",
    "    return int(row['Close'] > row['Open'])\n",
    "\n",
    "Full_dataset['Price_diff'] = Full_dataset.apply(add_column, axis=1)\n",
    "\n",
    "# then we copy it to drop the 'Open' and 'Close' columns\n",
    "dataset = Full_dataset.copy()\n",
    "dataset.drop(['Close'], axis=1, inplace=True)\n",
    "\n",
    "# Drop rows with missing values or with non-numeric values\n",
    "dataset.dropna(inplace=True)\n",
    "dataset = dataset[dataset.apply(lambda x: pd.to_numeric(x, errors='coerce').notna()).all(1)]\n",
    "\n",
    "print(dataset.head())"
   ]
  },
  {
   "cell_type": "markdown",
   "metadata": {},
   "source": [
    "Now we train/test split the data"
   ]
  },
  {
   "cell_type": "code",
   "execution_count": 42,
   "metadata": {},
   "outputs": [],
   "source": [
    "train_dataset = dataset.loc['2019-01-01':'2020-12-31']\n",
    "test_dataset = dataset.loc['2021-01-01':'2021-12-31']\n",
    "\n",
    "X_train = train_dataset.drop('Price_diff', axis=1)\n",
    "y_train = train_dataset['Price_diff']\n",
    "X_test = test_dataset.drop('Price_diff', axis=1)\n",
    "y_test = test_dataset['Price_diff']"
   ]
  },
  {
   "cell_type": "markdown",
   "metadata": {},
   "source": [
    "## Model definition and training\n",
    "\n",
    "We are going to use a random forest classifier to predict the label of the data. We will use the default parameters of the classifier."
   ]
  },
  {
   "cell_type": "code",
   "execution_count": 44,
   "metadata": {},
   "outputs": [
    {
     "name": "stdout",
     "output_type": "stream",
     "text": [
      "Fitting 5 folds for each of 81 candidates, totalling 405 fits\n"
     ]
    }
   ],
   "source": [
    "# Create the Random Forest classifier\n",
    "rf_classifier = RandomForestClassifier()\n",
    "\n",
    "# Define the hyperparameter grid for tuning\n",
    "param_grid = {\n",
    "    'n_estimators': [100, 200, 300],\n",
    "    'max_depth': [10, 20, 30],\n",
    "    'min_samples_split': [2, 5, 10],\n",
    "    'min_samples_leaf': [1, 2, 4]\n",
    "}\n",
    "\n",
    "# Perform Grid Search with cross-validation\n",
    "grid_search = GridSearchCV(rf_classifier, param_grid, cv=5, n_jobs=-1, verbose=1)\n",
    "grid_search.fit(X_train, y_train)\n",
    "\n",
    "# Get the best hyperparameters\n",
    "best_params = grid_search.best_params_\n",
    "\n",
    "# Fit the model with the best hyperparameters\n",
    "best_rf_model = RandomForestClassifier(**best_params)\n",
    "best_rf_model.fit(X_train, y_train)\n",
    "\n",
    "# Evaluate the model on the test set\n",
    "accuracy = best_rf_model.score(X_test, y_test)"
   ]
  },
  {
   "cell_type": "markdown",
   "metadata": {},
   "source": [
    "## Results"
   ]
  },
  {
   "cell_type": "code",
   "execution_count": 45,
   "metadata": {},
   "outputs": [
    {
     "name": "stdout",
     "output_type": "stream",
     "text": [
      "Accuracy: 0.428\n",
      "Best hyperparameters: {'max_depth': 30, 'min_samples_leaf': 2, 'min_samples_split': 2, 'n_estimators': 200}\n"
     ]
    }
   ],
   "source": [
    "print('Accuracy:', accuracy)\n",
    "print('Best hyperparameters:', best_params)"
   ]
  },
  {
   "cell_type": "markdown",
   "metadata": {},
   "source": [
    "# Gradient boosting classifier"
   ]
  },
  {
   "cell_type": "code",
   "execution_count": 46,
   "metadata": {},
   "outputs": [],
   "source": [
    "# Add the column\n",
    "def add_column(row):\n",
    "    return int(row['Close'] > row['Open'])\n",
    "\n",
    "Full_dataset['Price_diff'] = Full_dataset.apply(add_column, axis=1)\n",
    "\n",
    "# then we copy it to drop the 'Open' and 'Close' columns\n",
    "dataset = Full_dataset.copy()\n",
    "dataset.drop(['Close'], axis=1, inplace=True)\n",
    "\n",
    "# Drop rows with missing values or with non-numeric values\n",
    "dataset.dropna(inplace=True)\n",
    "dataset = dataset[dataset.apply(lambda x: pd.to_numeric(x, errors='coerce').notna()).all(1)]\n",
    "\n",
    "train_dataset = dataset.loc['2019-01-01':'2020-12-31']\n",
    "test_dataset = dataset.loc['2021-01-01':'2021-12-31']\n",
    "\n",
    "X_train = train_dataset.drop('Price_diff', axis=1)\n",
    "y_train = train_dataset['Price_diff']\n",
    "X_test = test_dataset.drop('Price_diff', axis=1)\n",
    "y_test = test_dataset['Price_diff']"
   ]
  },
  {
   "cell_type": "markdown",
   "metadata": {},
   "source": [
    "## Model definition and training"
   ]
  },
  {
   "cell_type": "code",
   "execution_count": 48,
   "metadata": {},
   "outputs": [
    {
     "name": "stdout",
     "output_type": "stream",
     "text": [
      "Fitting 5 folds for each of 243 candidates, totalling 1215 fits\n"
     ]
    }
   ],
   "source": [
    "\n",
    "\n",
    "# Create the Gradient Boosting classifier\n",
    "gb_classifier = GradientBoostingClassifier()\n",
    "\n",
    "# Define the hyperparameter grid for tuning\n",
    "param_grid = {\n",
    "    'n_estimators': [100, 200, 300],\n",
    "    'learning_rate': [0.01, 0.1, 0.2],\n",
    "    'max_depth': [3, 4, 5],\n",
    "    'min_samples_split': [2, 3, 4],\n",
    "    'min_samples_leaf': [1, 2, 3]\n",
    "}\n",
    "\n",
    "# Perform Grid Search with cross-validation\n",
    "grid_search = GridSearchCV(gb_classifier, param_grid, cv=5, n_jobs=-1, verbose=1)\n",
    "grid_search.fit(X_train, y_train)\n",
    "\n",
    "# Get the best hyperparameters\n",
    "best_params = grid_search.best_params_\n",
    "\n",
    "# Fit the model with the best hyperparameters\n",
    "best_gb_model = GradientBoostingClassifier(**best_params)\n",
    "best_gb_model.fit(X_train, y_train)\n",
    "\n",
    "# Evaluate the model on the test set\n",
    "accuracy = best_gb_model.score(X_test, y_test)\n"
   ]
  },
  {
   "cell_type": "markdown",
   "metadata": {},
   "source": [
    "## Results"
   ]
  },
  {
   "cell_type": "code",
   "execution_count": 49,
   "metadata": {},
   "outputs": [
    {
     "name": "stdout",
     "output_type": "stream",
     "text": [
      "Accuracy: 0.48\n",
      "Best hyperparameters: {'learning_rate': 0.01, 'max_depth': 4, 'min_samples_leaf': 3, 'min_samples_split': 2, 'n_estimators': 100}\n"
     ]
    }
   ],
   "source": [
    "print('Accuracy:', accuracy)\n",
    "print('Best hyperparameters:', best_params)"
   ]
  }
 ],
 "metadata": {
  "kernelspec": {
   "display_name": ".venv",
   "language": "python",
   "name": "python3"
  },
  "language_info": {
   "codemirror_mode": {
    "name": "ipython",
    "version": 3
   },
   "file_extension": ".py",
   "mimetype": "text/x-python",
   "name": "python",
   "nbconvert_exporter": "python",
   "pygments_lexer": "ipython3",
   "version": "3.10.10"
  }
 },
 "nbformat": 4,
 "nbformat_minor": 2
}
